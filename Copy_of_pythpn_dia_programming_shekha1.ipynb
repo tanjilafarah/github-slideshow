{
  "nbformat": 4,
  "nbformat_minor": 0,
  "metadata": {
    "colab": {
      "name": "Copy of pythpn-dia-programming-shekha1.ipynb",
      "provenance": [],
      "authorship_tag": "ABX9TyPDRW1W1X72fsy7IWM8YuTf",
      "include_colab_link": true
    },
    "kernelspec": {
      "name": "python3",
      "display_name": "Python 3"
    },
    "language_info": {
      "name": "python"
    }
  },
  "cells": [
    {
      "cell_type": "markdown",
      "metadata": {
        "id": "view-in-github",
        "colab_type": "text"
      },
      "source": [
        "<a href=\"https://colab.research.google.com/github/tanjilafarah/github-slideshow/blob/master/Copy_of_pythpn_dia_programming_shekha1.ipynb\" target=\"_parent\"><img src=\"https://colab.research.google.com/assets/colab-badge.svg\" alt=\"Open In Colab\"/></a>"
      ]
    },
    {
      "cell_type": "code",
      "metadata": {
        "colab": {
          "base_uri": "https://localhost:8080/"
        },
        "id": "dRG7P-_a6DRm",
        "outputId": "3fe09012-44bb-4479-b250-0df40d4713fb"
      },
      "source": [
        "# print(\"Hello World\")\n",
        "#text = \"Hello World\"\n",
        "#print (text)\n",
        "#a=5.0\n",
        "#b=10\n",
        "#c= \"Hello\"\n",
        "#result= a+b\n",
        "#print(a,b,c,\"World\")\n",
        "#type(result)\n",
        "name=input(\"What is your name?\")\n",
        "print (\"Welcom,\", name, \"!\")\n",
        "a= int (input(\"Please enter the an integer and press enter: \"))\n",
        "b= int (input(\"Please enter the second integer anf press enter: \"))\n",
        "print(\"a+b=\", a+b)"
      ],
      "execution_count": null,
      "outputs": [
        {
          "output_type": "stream",
          "text": [
            "What is your name?Tanjila\n",
            "Welcom, Tanjila !\n",
            "Please enter the an integer and press enter: 3\n",
            "Please enter the second integer anf press enter: 6\n",
            "a+b= 9\n"
          ],
          "name": "stdout"
        }
      ]
    }
  ]
}